{
 "cells": [
  {
   "cell_type": "markdown",
   "metadata": {},
   "source": [
    "## LLMs and Chat Models"
   ]
  },
  {
   "cell_type": "code",
   "execution_count": 1,
   "metadata": {},
   "outputs": [
    {
     "data": {
      "text/plain": [
       "'As of August 2021, there are eight recognized planets in our solar system. They are Mercury, Venus, Earth, Mars, Jupiter, Saturn, Uranus, and Neptune. However, it is important to note that in 2006, the International Astronomical Union (IAU) redefined the definition of a planet, leading to the reclassification of Pluto as a \"dwarf planet.\"'"
      ]
     },
     "execution_count": 1,
     "metadata": {},
     "output_type": "execute_result"
    }
   ],
   "source": [
    "from langchain.llms.openai import OpenAI\n",
    "from langchain.chat_models import ChatOpenAI\n",
    "\n",
    "llm = OpenAI()\n",
    "chat = ChatOpenAI()\n",
    "\n",
    "# a = llm.predict(\"How many planets are there?\") // text-davinci-003 2024.01.04 out of service -> 실행 안 됨\n",
    "b = chat.predict(\"How many planets are there?\") # In service gpt-3.5-turbo\n",
    "\n",
    "b"
   ]
  },
  {
   "cell_type": "markdown",
   "metadata": {},
   "source": [
    "## Predict Messages"
   ]
  },
  {
   "cell_type": "code",
   "execution_count": 35,
   "metadata": {},
   "outputs": [],
   "source": [
    "from langchain.chat_models import ChatOpenAI\n",
    "\n",
    "chat = ChatOpenAI(\n",
    "    temperature=0.1 # temperature가 높을수록 창의력이 떨어짐, 답변의 활용도가 낮음\n",
    ")"
   ]
  },
  {
   "cell_type": "code",
   "execution_count": 2,
   "metadata": {},
   "outputs": [
    {
     "data": {
      "text/plain": [
       "AIMessage(content='Ciao! Il mio nome è Paolo. La distanza tra il Messico e la Thailandia è di circa 16.000 chilometri.')"
      ]
     },
     "execution_count": 2,
     "metadata": {},
     "output_type": "execute_result"
    }
   ],
   "source": [
    "from langchain.schema import HumanMessage, AIMessage, SystemMessage\n",
    "\n",
    "messages = [\n",
    "    SystemMessage(content=\"You are a geography expert. And you only reply in Italian.\"),\n",
    "    AIMessage(content = \"Ciao, mi chiam Paolo!\"),\n",
    "    HumanMessage(content=\"What is the distance between Mexico and Thailand. Also, what is your name?\")\n",
    "]\n",
    "\n",
    "chat.predict_messages(messages)\n"
   ]
  },
  {
   "cell_type": "markdown",
   "metadata": {},
   "source": [
    "## prompt"
   ]
  },
  {
   "cell_type": "code",
   "execution_count": 3,
   "metadata": {},
   "outputs": [
    {
     "name": "stdout",
     "output_type": "stream",
     "text": [
      "<class 'str'>\n"
     ]
    },
    {
     "data": {
      "text/plain": [
       "'The distance between Mexico and Thailand is approximately 16,000 kilometers (9,942 miles).'"
      ]
     },
     "execution_count": 3,
     "metadata": {},
     "output_type": "execute_result"
    }
   ],
   "source": [
    "from langchain.prompts import PromptTemplate, ChatPromptTemplate\n",
    "\n",
    "## chatPromptTemplate : message로부터 template을 만듬\n",
    "## PromptTemplate : String을 이용해서 template을 만듬\n",
    "## template에는 검증계층(validation layer)이 있음 -> 사용자가 볼 수 없는 곳에서 template이 질문에 대한 변수를 정의함.\n",
    "\n",
    "template = PromptTemplate.from_template(\"what is the distance between {country_a} and {country_b}?\")\n",
    "\n",
    "prompt = template.format(country_a = 'Mexico', country_b=\"Thailand\")\n",
    "## template.format은 질문을 정리해서 보여줌\n",
    "\n",
    "\n",
    "print(type(prompt))\n",
    "\n",
    "chat = ChatOpenAI(temperature=0.1)\n",
    "\n",
    "chat.predict(prompt)\n",
    "\n"
   ]
  },
  {
   "cell_type": "markdown",
   "metadata": {},
   "source": [
    "## FewShoutPromptTemplate\n"
   ]
  },
  {
   "cell_type": "code",
   "execution_count": 38,
   "metadata": {},
   "outputs": [
    {
     "data": {
      "text/plain": [
       "'what is the capital of France'"
      ]
     },
     "execution_count": 38,
     "metadata": {},
     "output_type": "execute_result"
    }
   ],
   "source": [
    "# TODO: langchain modules study\n",
    "\n",
    "from langchain.chat_models import ChatOpenAI\n",
    "from langchain.prompts import PromptTemplate # 질문을 받고 답변을 할 수 있는 PROMPT를 제작하는 모듈\n",
    "from langchain.prompts.few_shot import FewShotChatMessagePromptTemplate # AI가 답변하는 형식을 학습시킬 수 있는 모듈 -> 대화 방식을 데이터 베이스에 저장하여 가지고 오면 편함\n",
    "from langchain.callbacks import StreamingStdOutCallbackHandler\n",
    "from langchain.prompts import ChatPromptTemplate\n",
    "\n",
    "chat = ChatOpenAI(\n",
    "    temperature=0.1,\n",
    "    streaming=True,\n",
    "    callbacks=[\n",
    "        StreamingStdOutCallbackHandler(),\n",
    "    ]\n",
    ")\n",
    "\n",
    "t = PromptTemplate(\n",
    "    template=\"what is the capital of {country}\",\n",
    "    input_variables=['country'],\n",
    ")\n",
    "\n",
    "t.format(country=\"France\")"
   ]
  },
  {
   "cell_type": "code",
   "execution_count": 3,
   "metadata": {},
   "outputs": [
    {
     "name": "stdout",
     "output_type": "stream",
     "text": [
      "AI\n",
      "    I know this:\n",
      "    Capital: Ankara\n",
      "    Language: Turkish\n",
      "    Food: Kebab and Baklava\n",
      "    Currency: Turkish Lira"
     ]
    },
    {
     "data": {
      "text/plain": [
       "AIMessageChunk(content='AI\\n    I know this:\\n    Capital: Ankara\\n    Language: Turkish\\n    Food: Kebab and Baklava\\n    Currency: Turkish Lira')"
      ]
     },
     "execution_count": 3,
     "metadata": {},
     "output_type": "execute_result"
    }
   ],
   "source": [
    "from langchain.chat_models import ChatOpenAI\n",
    "from langchain.prompts import PromptTemplate\n",
    "from langchain.prompts.few_shot import FewShotPromptTemplate\n",
    "from langchain.callbacks import StreamingStdOutCallbackHandler\n",
    "\n",
    "\n",
    "chat = ChatOpenAI(\n",
    "    temperature=0.1,\n",
    "    streaming=True,\n",
    "    callbacks=[\n",
    "        StreamingStdOutCallbackHandler(),\n",
    "    ]\n",
    ")\n",
    "\n",
    "examples = [\n",
    "{\n",
    "    \"question\": \"what do you know about Italy?\",\n",
    "    \"answer\": \"\"\"\n",
    "    Here is what I know:\n",
    "    Capital : Rome\n",
    "    Language: Italian\n",
    "    Good: Pizza and Pasta\n",
    "    Currency: Euro\"\"\"\n",
    "},\n",
    "{\n",
    "    \"question\": \"what do you know about Greece?\",\n",
    "    \"answer\": \"\"\"\n",
    "    I know this:\n",
    "    Capital: Athens\n",
    "    Language: Greek\n",
    "    Good:Souvlaki and Feta Cheese\n",
    "    Currency: Euro\"\"\"\n",
    "},\n",
    "{\n",
    "    \"question\": \"what do you kow about France?\",\n",
    "    \"answer\": \"\"\"I know this:\n",
    "    Capital : Paris\n",
    "    Language: French\n",
    "    Food: Wine and Cheese\n",
    "    Currency: Euro\"\"\"\n",
    "}\n",
    "]\n",
    "# chat.predict(\"what do you know about France?\")\n",
    "\n",
    "example_prompt = PromptTemplate.from_template(\"Human: {question}\\nAI{answer}\")\n",
    "\n",
    "prompt = FewShotPromptTemplate(\n",
    "    example_prompt=example_prompt,\n",
    "    examples = examples,\n",
    "    suffix=\"Human: What do you know about{country}?\",\n",
    "    input_variables=['country']\n",
    ")\n",
    "                                              \n",
    "\n",
    "prompt.format(country=\"Germany\")\n",
    "\n",
    "chain = prompt | chat\n",
    "\n",
    "chain.invoke({\n",
    "    \"country\" : \"Turkey\"\n",
    "})\n"
   ]
  },
  {
   "cell_type": "code",
   "execution_count": null,
   "metadata": {},
   "outputs": [],
   "source": [
    "from langchain.chat_models import ChatOpenAI\n",
    "from langchain.prompts import PromptTemplate\n",
    "from langchain.prompts.few_shot import FewShotChatMessagePromptTemplate\n",
    "from langchain.callbacks import StreamingStdOutCallbackHandler\n",
    "from langchain.prompts import ChatPromptTemplate\n",
    "\n",
    "\n",
    "chat = ChatOpenAI(\n",
    "    temperature=0.1,\n",
    "    streaming=True,\n",
    "    model = \"gpt-3.5-turbo\",\n",
    "    callbacks=[\n",
    "        StreamingStdOutCallbackHandler(),\n",
    "    ],\n",
    ")\n",
    "\n",
    "examples = [\n",
    "{\n",
    "    \"question\": \"Italy?\",\n",
    "    \"answer\": \"\"\"\n",
    "    Here is what I know:\n",
    "    Capital : Rome\n",
    "    Language: Italian\n",
    "    Good: Pizza and Pasta\n",
    "    Currency: Euro\"\"\"\n",
    "},\n",
    "{\n",
    "    \"question\": \"Greece?\",\n",
    "    \"answer\": \"\"\"\n",
    "    I know this:\n",
    "    Capital: Athens\n",
    "    Language: Greek\n",
    "    Good:Souvlaki and Feta Cheese\n",
    "    Currency: Euro\"\"\"\n",
    "},\n",
    "{\n",
    "    \"question\": \"France?\",\n",
    "    \"answer\": \"\"\"I know this:\n",
    "    Capital : Paris\n",
    "    Language: French\n",
    "    Food: Wine and Cheese\n",
    "    Currency: Euro\"\"\"\n",
    "}\n",
    "]\n",
    "\n",
    "\n",
    "example_prompt = ChatPromptTemplate.from_messages([\n",
    "    (\"human\", \"what do you know about {country}?\"),\n",
    "    (\"ai\", \"{answer}\")\n",
    "])\n",
    "\n",
    "example_prompt = FewShotChatMessagePromptTemplate(\n",
    "    example_prompt = example_prompt,\n",
    "    examples=examples,\n",
    ")\n",
    "\n",
    "final_prompt = ChatPromptTemplate.from_messages(\n",
    "    [\n",
    "        (\"system\", \"You are a geography expert, you give short answers.\"),\n",
    "        example_prompt,\n",
    "        (\"human\", \"What do you know about {country}?\")\n",
    "    ]\n",
    ")\n",
    "\n",
    "\n",
    "final_prompt.format(country = \"Japan\")\n",
    "\n",
    "chain = final_prompt | chat\n",
    "\n",
    "response = chain.invoke(\n",
    "    {\"country\" : \"Turkey\"}\n",
    ")\n",
    "\n",
    "print(response)\n",
    "\n",
    "## 결제????\n"
   ]
  },
  {
   "cell_type": "markdown",
   "metadata": {},
   "source": [
    "## LengthBasedExampleSelector"
   ]
  },
  {
   "cell_type": "code",
   "execution_count": 24,
   "metadata": {},
   "outputs": [
    {
     "data": {
      "text/plain": [
       "'Human: Italy?\\nAI\\n    Here is what I know:\\n    Capital : Rome\\n    Language: Italian\\n    Good: Pizza and Pasta\\n    Currency: Euro\\n\\nHuman: Greece?\\nAI\\n    I know this:\\n    Capital: Athens\\n    Language: Greek\\n    Good:Souvlaki and Feta Cheese\\n    Currency: Euro\\n\\nHuman: France?\\nAII know this:\\n    Capital : Paris\\n    Language: French\\n    Food: Wine and Cheese\\n    Currency: Euro\\n\\nHuman: What do you know about Brazil?'"
      ]
     },
     "execution_count": 24,
     "metadata": {},
     "output_type": "execute_result"
    }
   ],
   "source": [
    "from langchain.chat_models import ChatOpenAI\n",
    "from langchain.prompts.few_shot import FewShotPromptTemplate\n",
    "from langchain.callbacks import StreamingStdOutCallbackHandler\n",
    "from langchain.prompts.prompt import PromptTemplate\n",
    "from langchain.prompts.example_selector import LengthBasedExampleSelector\n",
    "# 예제들을 형식화함, 예제의 양이 얼마나 되는지 확인할 수 있음\n",
    "\n",
    "\n",
    "chat = ChatOpenAI(\n",
    "    temperature=0.1,\n",
    "    streaming=True,\n",
    "\n",
    "    callbacks=[\n",
    "        StreamingStdOutCallbackHandler()\n",
    "    ]\n",
    ")\n",
    "\n",
    "examples = [\n",
    "{\n",
    "    \"question\": \"Italy?\",\n",
    "    \"answer\": \"\"\"\n",
    "    Here is what I know:\n",
    "    Capital : Rome\n",
    "    Language: Italian\n",
    "    Good: Pizza and Pasta\n",
    "    Currency: Euro\"\"\"\n",
    "},\n",
    "{\n",
    "    \"question\": \"Greece?\",\n",
    "    \"answer\": \"\"\"\n",
    "    I know this:\n",
    "    Capital: Athens\n",
    "    Language: Greek\n",
    "    Good:Souvlaki and Feta Cheese\n",
    "    Currency: Euro\"\"\"\n",
    "},\n",
    "{\n",
    "    \"question\": \"France?\",\n",
    "    \"answer\": \"\"\"I know this:\n",
    "    Capital : Paris\n",
    "    Language: French\n",
    "    Food: Wine and Cheese\n",
    "    Currency: Euro\"\"\"\n",
    "}\n",
    "]\n",
    "\n",
    "example_prompt = PromptTemplate.from_template(\"Human: {question}\\nAI{answer}\")\n",
    "\n",
    "example_selector = LengthBasedExampleSelector(\n",
    "    examples=examples,\n",
    "    example_prompt = example_prompt,\n",
    "    max_length = 300,\n",
    ")\n",
    "\n",
    "prompt = FewShotPromptTemplate(\n",
    "    example_prompt=example_prompt,\n",
    "    example_selector = example_selector,\n",
    "    suffix=\"Human: What do you know about {country}?\",\n",
    "    input_variables=['country']\n",
    ")\n",
    "\n",
    "prompt.format(country = \"Brazil\")\n"
   ]
  },
  {
   "cell_type": "markdown",
   "metadata": {},
   "source": [
    "## BaseExampleSelector"
   ]
  },
  {
   "cell_type": "code",
   "execution_count": null,
   "metadata": {},
   "outputs": [],
   "source": [
    "from typing import Any, Dict, List\n",
    "from langchain.chat_models import ChatOpenAI\n",
    "from langchain.prompts.few_shot import FewShotPromptTemplate\n",
    "from langchain.callbacks import StreamingStdOutCallbackHandler\n",
    "from langchain.prompts.prompt import PromptTemplate\n",
    "from langchain.prompts.example_selector import LengthBasedExampleSelector\n",
    "# 예제들을 형식화함, 예제의 양이 얼마나 되는지 확인할 수 있음\n",
    "from langchain.prompts.example_selector.base import BaseExampleSelector\n",
    "\n",
    "chat = ChatOpenAI(\n",
    "    temperature=0.1,\n",
    "    streaming=True,\n",
    "    callbacks=[\n",
    "        StreamingStdOutCallbackHandler()\n",
    "    ]\n",
    ")\n",
    "\n",
    "examples = [\n",
    "{\n",
    "    \"question\": \"Italy?\",\n",
    "    \"answer\": \"\"\"\n",
    "    Here is what I know:\n",
    "    Capital : Rome\n",
    "    Language: Italian\n",
    "    Good: Pizza and Pasta\n",
    "    Currency: Euro\"\"\"\n",
    "},\n",
    "{\n",
    "    \"question\": \"Greece?\",\n",
    "    \"answer\": \"\"\"\n",
    "    I know this:\n",
    "    Capital: Athens\n",
    "    Language: Greek\n",
    "    Good:Souvlaki and Feta Cheese\n",
    "    Currency: Euro\"\"\"\n",
    "},\n",
    "{\n",
    "    \"question\": \"France?\",\n",
    "    \"answer\": \"\"\"I know this:\n",
    "    Capital : Paris\n",
    "    Language: French\n",
    "    Food: Wine and Cheese\n",
    "    Currency: Euro\"\"\"\n",
    "}\n",
    "]\n",
    "\n",
    "class RandomExampleSelector(BaseExampleSelector):\n",
    "    \n",
    "    def __init__(self, examples):\n",
    "        self.examples = examples\n",
    "\n",
    "    def add_example(self, example):\n",
    "        self.examples.append(example)\n",
    "\n",
    "    def select_examples(self, input_variables):\n",
    "        from random import choice\n",
    "        return [choice(self.examples)]\n",
    "\n",
    "example_prompt = PromptTemplate.from_template(\"Human: {question}\\nAI{answer}\")\n",
    "\n",
    "example_selector = RandomExampleSelector(\n",
    "    examples=examples,\n",
    ")\n",
    "\n",
    "prompt = FewShotPromptTemplate(\n",
    "    example_prompt=example_prompt,\n",
    "    example_selector = example_selector,\n",
    "    suffix=\"Human: What do you know about {country}?\",\n",
    "    input_variables=['country']\n",
    ")\n",
    "\n",
    "prompt.format(country = \"Brazil\")\n"
   ]
  },
  {
   "cell_type": "markdown",
   "metadata": {},
   "source": [
    "## Serialization and Composition\n",
    "#### 여러 개의 prompt를 만들어서 병합시키는 작업이 필요함."
   ]
  },
  {
   "cell_type": "code",
   "execution_count": 30,
   "metadata": {},
   "outputs": [
    {
     "data": {
      "text/plain": [
       "'what is the capital of korea'"
      ]
     },
     "execution_count": 30,
     "metadata": {},
     "output_type": "execute_result"
    }
   ],
   "source": [
    "from langchain.chat_models import ChatOpenAI\n",
    "from langchain.callbacks import StreamingStdOutCallbackHandler\n",
    "from langchain.prompts import load_prompt\n",
    "# prompt 파일을 json 또는 yaml 으로 만들어서 import 시킴\n",
    "\n",
    "prompt = load_prompt(\"./prompt.yaml\")\n",
    "\n",
    "prompt.format(country = \"korea\")"
   ]
  },
  {
   "cell_type": "code",
   "execution_count": 36,
   "metadata": {},
   "outputs": [
    {
     "name": "stdout",
     "output_type": "stream",
     "text": [
      "Arrr, me favorite food be a hearty plate o' salted fish and hardtack! It be keepin' me belly full on the high seas, matey!"
     ]
    },
    {
     "data": {
      "text/plain": [
       "AIMessageChunk(content=\"Arrr, me favorite food be a hearty plate o' salted fish and hardtack! It be keepin' me belly full on the high seas, matey!\")"
      ]
     },
     "execution_count": 36,
     "metadata": {},
     "output_type": "execute_result"
    }
   ],
   "source": [
    "from langchain.chat_models import ChatOpenAI\n",
    "from langchain.callbacks import StreamingStdOutCallbackHandler\n",
    "from langchain.prompts.pipeline import PipelinePromptTemplate\n",
    "# pipelineprompt는 많은 prompt를 하나로 합쳐줌\n",
    "\n",
    "chat = ChatOpenAI(\n",
    "    temperature=0.1,\n",
    "    streaming=True,\n",
    "    callbacks=[\n",
    "        StreamingStdOutCallbackHandler()\n",
    "    ]\n",
    ")\n",
    "intro = PromptTemplate.from_template(\n",
    "    \"\"\"You are a role playing assistant.\n",
    "    And you are impersonating a {character}\"\"\"\n",
    ")\n",
    "\n",
    "example = PromptTemplate.from_template(\n",
    "    \"\"\"This is an example of how you talk:\n",
    "    \n",
    "    Human: {example_question}\n",
    "     You: {example_answer} \"\"\"\n",
    ")\n",
    "\n",
    "start = PromptTemplate.from_template(\n",
    "    \"\"\"Start now!\n",
    "    \n",
    "    Human: {question}\n",
    "    You: \"\"\"\n",
    ")\n",
    "\n",
    "# final 프롬프트에 위에서 만들어 놓은 프롬프트를 모두 넣음\n",
    "final = PromptTemplate.from_template(\n",
    "    \"\"\"\n",
    "{intro} \n",
    "\n",
    "{example}\n",
    "\n",
    "{start}\"\"\"\n",
    ")\n",
    "\n",
    "prompts = [\n",
    "    (\"intro\", intro),\n",
    "    (\"example\", example),\n",
    "    (\"start\", start),\n",
    "]\n",
    "\n",
    "# final 프롬프트를 return\n",
    "full_prompt = PipelinePromptTemplate(final_prompt=final, pipeline_prompts=prompts)\n",
    "\n",
    "full_prompt.format(\n",
    "    character=\"Pirate\",\n",
    "    example_question=\"What is your location?\",\n",
    "    example_answer = \"Arrrrg! That is a secret!! Arg arg!!\",\n",
    "    question=\"What is your favorite food?\"\n",
    ")\n",
    "\n",
    "chain = full_prompt | chat\n",
    "chain.invoke({\n",
    "    \"character\":\"Pirate\",\n",
    "    \"example_question\":\"What is your location?\",\n",
    "    \"example_answer\":\"Arrrg! That is a secret!! Arg arg!!\",\n",
    "    \"question\":\"what is your favorite food?\"\n",
    "\n",
    "})"
   ]
  },
  {
   "cell_type": "markdown",
   "metadata": {},
   "source": [
    "## Caching\n",
    "##### 캐싱을 사용하면 LM의 응답을 저장할 수 있음.\n",
    "##### 답변을 저장하여 재사용하면 답변 시간을 줄일 수 있음."
   ]
  },
  {
   "cell_type": "code",
   "execution_count": 44,
   "metadata": {},
   "outputs": [
    {
     "data": {
      "text/plain": [
       "\"To make Italian pasta, you will need the following ingredients:\\n\\n- 2 cups of all-purpose flour\\n- 2 large eggs\\n- 1/2 teaspoon of salt\\n- Water (if needed)\\n\\nHere's a step-by-step guide to making Italian pasta:\\n\\n1. On a clean surface or in a large mixing bowl, pour the flour and create a well in the center.\\n2. Crack the eggs into the well and add the salt.\\n3. Using a fork or your fingers, gradually mix the eggs and salt into the flour, incorporating a little bit at a time.\\n4. Once the dough starts to come together, knead it with your hands until it forms a smooth and elastic ball. If the dough is too dry, you can add a little water, one tablespoon at a time, until it reaches the desired consistency.\\n5. Once the dough is formed, cover it with a clean kitchen towel or plastic wrap and let it rest for about 30 minutes. This will allow the gluten to relax and make the dough easier to work with.\\n6. After resting, divide the dough into smaller portions for easier handling.\\n7. Take one portion of the dough and flatten it with your hands or a rolling pin until it is about 1/4 inch thick.\\n8. If you have a pasta machine, you can use it to roll out the dough to your desired thickness. Start with the widest setting and gradually decrease the thickness until you reach the desired thickness. If you don't have a pasta machine, you can continue rolling the dough with a rolling pin until it is thin enough.\\n9. Once the dough is rolled out, you can cut it into your desired pasta shape. For example, you can cut it into thin strips for spaghetti or fettuccine, or into squares for ravioli.\\n10. After cutting the pasta, you can cook it immediately in a large pot of salted boiling water for about 2-3 minutes, or until al dente. Alternatively, you can let the pasta dry for a few hours or overnight before cooking.\\n11. Once cooked, drain the pasta and serve it with your favorite sauce or toppings.\\n\\nEnjoy your homemade Italian pasta!\""
      ]
     },
     "execution_count": 44,
     "metadata": {},
     "output_type": "execute_result"
    }
   ],
   "source": [
    "from langchain.chat_models import ChatOpenAI\n",
    "from langchain.callbacks import StreamingStdOutCallbackHandler\n",
    "from langchain.globals import set_llm_cache\n",
    "from langchain.cache import InMemoryCache\n",
    "\n",
    "set_llm_cache(InMemoryCache())\n",
    "\n",
    "chat = ChatOpenAI(\n",
    "    temperature=0.1,\n",
    "    # streaming=True,\n",
    "    # callbacks=[\n",
    "    #     StreamingStdOutCallbackHandler()\n",
    "    # ]\n",
    ")\n",
    "\n",
    "chat.predict(\"How do you make Italian pasta\")\n",
    "\n",
    "# 첫 번째 답변은 19.5초 소요됨"
   ]
  },
  {
   "cell_type": "code",
   "execution_count": null,
   "metadata": {},
   "outputs": [],
   "source": [
    "chat.predict(\"How do you make Italian pasta\")\n",
    "# 두 번째 답변은 17.5초 소요됨"
   ]
  },
  {
   "cell_type": "code",
   "execution_count": 45,
   "metadata": {},
   "outputs": [
    {
     "data": {
      "text/plain": [
       "\"To make Italian pasta, you will need the following ingredients:\\n\\n- 2 cups of all-purpose flour\\n- 2 large eggs\\n- 1/2 teaspoon of salt\\n- Water (if needed)\\n\\nHere's a step-by-step guide to making Italian pasta:\\n\\n1. On a clean surface or in a large mixing bowl, pour the flour and create a well in the center.\\n2. Crack the eggs into the well and add the salt.\\n3. Using a fork or your fingers, gradually mix the eggs and salt into the flour, incorporating a little bit at a time.\\n4. Once the dough starts to come together, knead it with your hands until it forms a smooth and elastic ball. If the dough is too dry, you can add a little water, one tablespoon at a time, until it reaches the desired consistency.\\n5. Once the dough is formed, cover it with a clean kitchen towel or plastic wrap and let it rest for about 30 minutes. This will allow the gluten to relax and make the dough easier to work with.\\n6. After resting, divide the dough into smaller portions for easier handling.\\n7. Take one portion of the dough and flatten it with your hands or a rolling pin until it is about 1/4 inch thick.\\n8. If you have a pasta machine, you can use it to roll out the dough to your desired thickness. Start with the widest setting and gradually decrease the thickness until you reach the desired thickness. If you don't have a pasta machine, you can continue rolling the dough with a rolling pin until it is thin enough.\\n9. Once the dough is rolled out, you can cut it into your desired pasta shape. For example, you can cut it into thin strips for spaghetti or fettuccine, or into squares for ravioli.\\n10. After cutting the pasta, you can cook it immediately in a large pot of salted boiling water for about 2-3 minutes, or until al dente. Alternatively, you can let the pasta dry for a few hours or overnight before cooking.\\n11. Once cooked, drain the pasta and serve it with your favorite sauce or toppings.\\n\\nEnjoy your homemade Italian pasta!\""
      ]
     },
     "execution_count": 45,
     "metadata": {},
     "output_type": "execute_result"
    }
   ],
   "source": [
    "chat.predict(\"How do you make Italian pasta\")\n",
    "# 바로 답변함"
   ]
  },
  {
   "cell_type": "code",
   "execution_count": 46,
   "metadata": {},
   "outputs": [
    {
     "name": "stdout",
     "output_type": "stream",
     "text": [
      "\u001b[32;1m\u001b[1;3m[llm/start]\u001b[0m \u001b[1m[1:llm:ChatOpenAI] Entering LLM run with input:\n",
      "\u001b[0m{\n",
      "  \"prompts\": [\n",
      "    \"Human: How do you make Italian pasta\"\n",
      "  ]\n",
      "}\n",
      "\u001b[36;1m\u001b[1;3m[llm/end]\u001b[0m \u001b[1m[1:llm:ChatOpenAI] [14.16s] Exiting LLM run with output:\n",
      "\u001b[0m{\n",
      "  \"generations\": [\n",
      "    [\n",
      "      {\n",
      "        \"text\": \"To make Italian pasta, follow these steps:\\n\\n1. Boil water: Fill a large pot with water and bring it to a rolling boil. Add salt to the water to enhance the flavor of the pasta.\\n\\n2. Add pasta: Carefully add the pasta to the boiling water. Use about 100 grams of pasta per person, or adjust according to your preference.\\n\\n3. Cook pasta: Stir the pasta occasionally to prevent sticking. Cook it according to the package instructions or until it reaches your desired level of doneness. Italians generally prefer their pasta al dente, which means it should be cooked but still firm to the bite.\\n\\n4. Prepare sauce: While the pasta is cooking, you can prepare the sauce. There are various Italian pasta sauces, such as tomato-based sauces like marinara or Bolognese, cream-based sauces like Alfredo, or olive oil-based sauces like aglio e olio. Choose a sauce that complements your taste.\\n\\n5. Drain pasta: Once the pasta is cooked, carefully drain it in a colander. Do not rinse the pasta, as the starch helps the sauce adhere to it better.\\n\\n6. Combine pasta and sauce: Return the drained pasta to the pot and add the prepared sauce. Mix well to ensure the pasta is evenly coated with the sauce.\\n\\n7. Serve: Transfer the pasta to serving plates or bowls. You can garnish it with grated Parmesan cheese, fresh herbs, or a drizzle of olive oil, depending on the type of pasta and sauce you used.\\n\\n8. Enjoy: Serve the Italian pasta immediately while it's still hot. Pair it with a side salad, garlic bread, or a glass of wine for a complete meal.\\n\\nRemember, Italian pasta dishes offer endless possibilities, so feel free to experiment with different types of pasta shapes, sauces, and ingredients to create your own unique dishes.\",\n",
      "        \"generation_info\": {\n",
      "          \"finish_reason\": \"stop\"\n",
      "        },\n",
      "        \"type\": \"ChatGeneration\",\n",
      "        \"message\": {\n",
      "          \"lc\": 1,\n",
      "          \"type\": \"constructor\",\n",
      "          \"id\": [\n",
      "            \"langchain\",\n",
      "            \"schema\",\n",
      "            \"messages\",\n",
      "            \"AIMessage\"\n",
      "          ],\n",
      "          \"kwargs\": {\n",
      "            \"content\": \"To make Italian pasta, follow these steps:\\n\\n1. Boil water: Fill a large pot with water and bring it to a rolling boil. Add salt to the water to enhance the flavor of the pasta.\\n\\n2. Add pasta: Carefully add the pasta to the boiling water. Use about 100 grams of pasta per person, or adjust according to your preference.\\n\\n3. Cook pasta: Stir the pasta occasionally to prevent sticking. Cook it according to the package instructions or until it reaches your desired level of doneness. Italians generally prefer their pasta al dente, which means it should be cooked but still firm to the bite.\\n\\n4. Prepare sauce: While the pasta is cooking, you can prepare the sauce. There are various Italian pasta sauces, such as tomato-based sauces like marinara or Bolognese, cream-based sauces like Alfredo, or olive oil-based sauces like aglio e olio. Choose a sauce that complements your taste.\\n\\n5. Drain pasta: Once the pasta is cooked, carefully drain it in a colander. Do not rinse the pasta, as the starch helps the sauce adhere to it better.\\n\\n6. Combine pasta and sauce: Return the drained pasta to the pot and add the prepared sauce. Mix well to ensure the pasta is evenly coated with the sauce.\\n\\n7. Serve: Transfer the pasta to serving plates or bowls. You can garnish it with grated Parmesan cheese, fresh herbs, or a drizzle of olive oil, depending on the type of pasta and sauce you used.\\n\\n8. Enjoy: Serve the Italian pasta immediately while it's still hot. Pair it with a side salad, garlic bread, or a glass of wine for a complete meal.\\n\\nRemember, Italian pasta dishes offer endless possibilities, so feel free to experiment with different types of pasta shapes, sauces, and ingredients to create your own unique dishes.\",\n",
      "            \"additional_kwargs\": {}\n",
      "          }\n",
      "        }\n",
      "      }\n",
      "    ]\n",
      "  ],\n",
      "  \"llm_output\": {\n",
      "    \"token_usage\": {\n",
      "      \"prompt_tokens\": 13,\n",
      "      \"completion_tokens\": 375,\n",
      "      \"total_tokens\": 388\n",
      "    },\n",
      "    \"model_name\": \"gpt-3.5-turbo\",\n",
      "    \"system_fingerprint\": null\n",
      "  },\n",
      "  \"run\": null\n",
      "}\n"
     ]
    },
    {
     "data": {
      "text/plain": [
       "\"To make Italian pasta, follow these steps:\\n\\n1. Boil water: Fill a large pot with water and bring it to a rolling boil. Add salt to the water to enhance the flavor of the pasta.\\n\\n2. Add pasta: Carefully add the pasta to the boiling water. Use about 100 grams of pasta per person, or adjust according to your preference.\\n\\n3. Cook pasta: Stir the pasta occasionally to prevent sticking. Cook it according to the package instructions or until it reaches your desired level of doneness. Italians generally prefer their pasta al dente, which means it should be cooked but still firm to the bite.\\n\\n4. Prepare sauce: While the pasta is cooking, you can prepare the sauce. There are various Italian pasta sauces, such as tomato-based sauces like marinara or Bolognese, cream-based sauces like Alfredo, or olive oil-based sauces like aglio e olio. Choose a sauce that complements your taste.\\n\\n5. Drain pasta: Once the pasta is cooked, carefully drain it in a colander. Do not rinse the pasta, as the starch helps the sauce adhere to it better.\\n\\n6. Combine pasta and sauce: Return the drained pasta to the pot and add the prepared sauce. Mix well to ensure the pasta is evenly coated with the sauce.\\n\\n7. Serve: Transfer the pasta to serving plates or bowls. You can garnish it with grated Parmesan cheese, fresh herbs, or a drizzle of olive oil, depending on the type of pasta and sauce you used.\\n\\n8. Enjoy: Serve the Italian pasta immediately while it's still hot. Pair it with a side salad, garlic bread, or a glass of wine for a complete meal.\\n\\nRemember, Italian pasta dishes offer endless possibilities, so feel free to experiment with different types of pasta shapes, sauces, and ingredients to create your own unique dishes.\""
      ]
     },
     "execution_count": 46,
     "metadata": {},
     "output_type": "execute_result"
    }
   ],
   "source": [
    "from langchain.chat_models import ChatOpenAI\n",
    "from langchain.callbacks import StreamingStdOutCallbackHandler\n",
    "from langchain.globals import set_llm_cache, set_debug\n",
    "from langchain.cache import InMemoryCache\n",
    "\n",
    "set_llm_cache(InMemoryCache())\n",
    "set_debug(True)\n",
    "\n",
    "chat = ChatOpenAI(\n",
    "    temperature=0.1,\n",
    "    # streaming=True,\n",
    "    # callbacks=[\n",
    "    #     StreamingStdOutCallbackHandler()\n",
    "    # ]\n",
    ")\n",
    "\n",
    "chat.predict(\"How do you make Italian pasta\")\n",
    "\n",
    "\n"
   ]
  },
  {
   "cell_type": "code",
   "execution_count": 48,
   "metadata": {},
   "outputs": [
    {
     "name": "stdout",
     "output_type": "stream",
     "text": [
      "\u001b[32;1m\u001b[1;3m[llm/start]\u001b[0m \u001b[1m[1:llm:ChatOpenAI] Entering LLM run with input:\n",
      "\u001b[0m{\n",
      "  \"prompts\": [\n",
      "    \"Human: How do you make Italian pasta\"\n",
      "  ]\n",
      "}\n",
      "\u001b[36;1m\u001b[1;3m[llm/end]\u001b[0m \u001b[1m[1:llm:ChatOpenAI] [17.97s] Exiting LLM run with output:\n",
      "\u001b[0m{\n",
      "  \"generations\": [\n",
      "    [\n",
      "      {\n",
      "        \"text\": \"To make Italian pasta, you will need the following ingredients:\\n\\n- 2 cups of all-purpose flour\\n- 2 large eggs\\n- 1/2 teaspoon of salt\\n- Water (if needed)\\n\\nHere's a step-by-step guide to making Italian pasta:\\n\\n1. On a clean surface or in a large mixing bowl, pour the flour and create a well in the center.\\n2. Crack the eggs into the well and add the salt.\\n3. Using a fork, beat the eggs and gradually incorporate the flour from the sides of the well. Continue mixing until a dough starts to form.\\n4. Once the dough becomes too thick to mix with a fork, use your hands to knead it. If the dough is too dry, add a little water, one tablespoon at a time, until it comes together. If it's too sticky, add a little more flour.\\n5. Knead the dough for about 5-10 minutes until it becomes smooth and elastic.\\n6. Shape the dough into a ball and cover it with a clean kitchen towel or plastic wrap. Let it rest for at least 30 minutes to allow the gluten to relax.\\n7. After resting, divide the dough into smaller portions for easier handling.\\n8. Take one portion and flatten it with your hands or a rolling pin until it becomes thin enough to fit through a pasta machine.\\n9. Set your pasta machine to the widest setting and pass the dough through it. Fold the dough into thirds and pass it through the machine again. Repeat this process a few times until the dough becomes smooth and pliable.\\n10. Gradually decrease the width setting on your pasta machine and pass the dough through each setting once, without folding, until you reach the desired thickness. For spaghetti or fettuccine, you'll typically want to stop at the second-to-last setting.\\n11. Once the dough is rolled out, you can either cut it into your desired pasta shape using a knife or use the appropriate attachment on your pasta machine.\\n12. Place the cut pasta on a clean surface or hang it on a pasta drying rack to prevent sticking.\\n13. Repeat the process with the remaining dough portions.\\n14. To cook the pasta, bring a large pot of salted water to a boil. Add the pasta and cook for about 2-3 minutes or until al dente (firm to the bite).\\n15. Drain the pasta and serve it with your favorite sauce or toppings.\\n\\nEnjoy your homemade Italian pasta!\",\n",
      "        \"generation_info\": {\n",
      "          \"finish_reason\": \"stop\"\n",
      "        },\n",
      "        \"type\": \"ChatGeneration\",\n",
      "        \"message\": {\n",
      "          \"lc\": 1,\n",
      "          \"type\": \"constructor\",\n",
      "          \"id\": [\n",
      "            \"langchain\",\n",
      "            \"schema\",\n",
      "            \"messages\",\n",
      "            \"AIMessage\"\n",
      "          ],\n",
      "          \"kwargs\": {\n",
      "            \"content\": \"To make Italian pasta, you will need the following ingredients:\\n\\n- 2 cups of all-purpose flour\\n- 2 large eggs\\n- 1/2 teaspoon of salt\\n- Water (if needed)\\n\\nHere's a step-by-step guide to making Italian pasta:\\n\\n1. On a clean surface or in a large mixing bowl, pour the flour and create a well in the center.\\n2. Crack the eggs into the well and add the salt.\\n3. Using a fork, beat the eggs and gradually incorporate the flour from the sides of the well. Continue mixing until a dough starts to form.\\n4. Once the dough becomes too thick to mix with a fork, use your hands to knead it. If the dough is too dry, add a little water, one tablespoon at a time, until it comes together. If it's too sticky, add a little more flour.\\n5. Knead the dough for about 5-10 minutes until it becomes smooth and elastic.\\n6. Shape the dough into a ball and cover it with a clean kitchen towel or plastic wrap. Let it rest for at least 30 minutes to allow the gluten to relax.\\n7. After resting, divide the dough into smaller portions for easier handling.\\n8. Take one portion and flatten it with your hands or a rolling pin until it becomes thin enough to fit through a pasta machine.\\n9. Set your pasta machine to the widest setting and pass the dough through it. Fold the dough into thirds and pass it through the machine again. Repeat this process a few times until the dough becomes smooth and pliable.\\n10. Gradually decrease the width setting on your pasta machine and pass the dough through each setting once, without folding, until you reach the desired thickness. For spaghetti or fettuccine, you'll typically want to stop at the second-to-last setting.\\n11. Once the dough is rolled out, you can either cut it into your desired pasta shape using a knife or use the appropriate attachment on your pasta machine.\\n12. Place the cut pasta on a clean surface or hang it on a pasta drying rack to prevent sticking.\\n13. Repeat the process with the remaining dough portions.\\n14. To cook the pasta, bring a large pot of salted water to a boil. Add the pasta and cook for about 2-3 minutes or until al dente (firm to the bite).\\n15. Drain the pasta and serve it with your favorite sauce or toppings.\\n\\nEnjoy your homemade Italian pasta!\",\n",
      "            \"additional_kwargs\": {}\n",
      "          }\n",
      "        }\n",
      "      }\n",
      "    ]\n",
      "  ],\n",
      "  \"llm_output\": {\n",
      "    \"token_usage\": {\n",
      "      \"prompt_tokens\": 13,\n",
      "      \"completion_tokens\": 502,\n",
      "      \"total_tokens\": 515\n",
      "    },\n",
      "    \"model_name\": \"gpt-3.5-turbo\",\n",
      "    \"system_fingerprint\": null\n",
      "  },\n",
      "  \"run\": null\n",
      "}\n"
     ]
    },
    {
     "data": {
      "text/plain": [
       "\"To make Italian pasta, you will need the following ingredients:\\n\\n- 2 cups of all-purpose flour\\n- 2 large eggs\\n- 1/2 teaspoon of salt\\n- Water (if needed)\\n\\nHere's a step-by-step guide to making Italian pasta:\\n\\n1. On a clean surface or in a large mixing bowl, pour the flour and create a well in the center.\\n2. Crack the eggs into the well and add the salt.\\n3. Using a fork, beat the eggs and gradually incorporate the flour from the sides of the well. Continue mixing until a dough starts to form.\\n4. Once the dough becomes too thick to mix with a fork, use your hands to knead it. If the dough is too dry, add a little water, one tablespoon at a time, until it comes together. If it's too sticky, add a little more flour.\\n5. Knead the dough for about 5-10 minutes until it becomes smooth and elastic.\\n6. Shape the dough into a ball and cover it with a clean kitchen towel or plastic wrap. Let it rest for at least 30 minutes to allow the gluten to relax.\\n7. After resting, divide the dough into smaller portions for easier handling.\\n8. Take one portion and flatten it with your hands or a rolling pin until it becomes thin enough to fit through a pasta machine.\\n9. Set your pasta machine to the widest setting and pass the dough through it. Fold the dough into thirds and pass it through the machine again. Repeat this process a few times until the dough becomes smooth and pliable.\\n10. Gradually decrease the width setting on your pasta machine and pass the dough through each setting once, without folding, until you reach the desired thickness. For spaghetti or fettuccine, you'll typically want to stop at the second-to-last setting.\\n11. Once the dough is rolled out, you can either cut it into your desired pasta shape using a knife or use the appropriate attachment on your pasta machine.\\n12. Place the cut pasta on a clean surface or hang it on a pasta drying rack to prevent sticking.\\n13. Repeat the process with the remaining dough portions.\\n14. To cook the pasta, bring a large pot of salted water to a boil. Add the pasta and cook for about 2-3 minutes or until al dente (firm to the bite).\\n15. Drain the pasta and serve it with your favorite sauce or toppings.\\n\\nEnjoy your homemade Italian pasta!\""
      ]
     },
     "execution_count": 48,
     "metadata": {},
     "output_type": "execute_result"
    }
   ],
   "source": [
    "from langchain.chat_models import ChatOpenAI\n",
    "from langchain.callbacks import StreamingStdOutCallbackHandler\n",
    "from langchain.globals import set_llm_cache, set_debug\n",
    "from langchain.cache import InMemoryCache, SQLiteCache\n",
    "\n",
    "set_llm_cache(InMemoryCache())\n",
    "set_debug(True)\n",
    "\n",
    "# db를 지정할 수 있음, 자동으로 cache.db 파일을 만들어줌, 다양한 캐쉬를 만들 수 있음.\n",
    "set_llm_cache(SQLiteCache(\"cache.db\"))\n",
    "\n",
    "chat = ChatOpenAI(\n",
    "    temperature=0.1,\n",
    "    # streaming=True,\n",
    "    # callbacks=[\n",
    "    #     StreamingStdOutCallbackHandler()\n",
    "    # ]\n",
    ")\n",
    "\n",
    "chat.predict(\"How do you make Italian pasta\")\n",
    "\n",
    "\n"
   ]
  },
  {
   "cell_type": "markdown",
   "metadata": {},
   "source": [
    "## MEMORY\n",
    "##### 챗봇에 MEMORY를 추가하지 않으면 챗봇은 아무것도 기억하지 못한다! \n",
    "##### OPEN AI는 답변만 하고 답변을 저장하지 않음."
   ]
  },
  {
   "cell_type": "code",
   "execution_count": 6,
   "metadata": {},
   "outputs": [
    {
     "data": {
      "text/plain": [
       "{'history': [HumanMessage(content='Hi!'), AIMessage(content='How are you?')]}"
      ]
     },
     "execution_count": 6,
     "metadata": {},
     "output_type": "execute_result"
    }
   ],
   "source": [
    "# Conversation Memory\n",
    "\n",
    "from langchain.memory import ConversationBufferMemory\n",
    "\n",
    "memory = ConversationBufferMemory()\n",
    "memory.save_context({\"input\":\"Hi!\"}, {\"output\":\"How are you?\"})\n",
    "# history로 대화 내용이 저장됨\n",
    "memory.load_memory_variables({})\n",
    "\n",
    "\n",
    "# 챗모델이 사용할 수 있는 형태로 저장하고 싶을 때\n",
    "memory = ConversationBufferMemory(return_messages=True)\n",
    "memory.save_context({\"input\":\"Hi!\"}, {\"output\":\"How are you?\"})\n",
    "# history로 대화 내용이 저장됨\n",
    "memory.load_memory_variables({})"
   ]
  },
  {
   "cell_type": "code",
   "execution_count": 11,
   "metadata": {},
   "outputs": [
    {
     "data": {
      "text/plain": [
       "{'history': [HumanMessage(content='1'),\n",
       "  AIMessage(content='1'),\n",
       "  HumanMessage(content='2'),\n",
       "  AIMessage(content='2'),\n",
       "  HumanMessage(content='3'),\n",
       "  AIMessage(content='3'),\n",
       "  HumanMessage(content='4'),\n",
       "  AIMessage(content='4')]}"
      ]
     },
     "execution_count": 11,
     "metadata": {},
     "output_type": "execute_result"
    }
   ],
   "source": [
    "# Conversation Buffer Window Memory\n",
    "\n",
    "from langchain.memory import ConversationBufferWindowMemory\n",
    "\n",
    "memory = ConversationBufferWindowMemory(\n",
    "    return_messages=True,\n",
    "    k=4\n",
    ")\n",
    "\n",
    "def add_message(input, output):\n",
    "    memory.save_context({\"input\":input}, {\"output\":output})\n",
    "\n",
    "add_message(1,1)\n",
    "add_message(2,2)\n",
    "add_message(3,3)\n",
    "add_message(4,4)\n",
    "\n",
    "memory.load_memory_variables({})\n"
   ]
  },
  {
   "cell_type": "code",
   "execution_count": 12,
   "metadata": {},
   "outputs": [
    {
     "data": {
      "text/plain": [
       "{'history': [HumanMessage(content='2'),\n",
       "  AIMessage(content='2'),\n",
       "  HumanMessage(content='3'),\n",
       "  AIMessage(content='3'),\n",
       "  HumanMessage(content='4'),\n",
       "  AIMessage(content='4'),\n",
       "  HumanMessage(content='5'),\n",
       "  AIMessage(content='5')]}"
      ]
     },
     "execution_count": 12,
     "metadata": {},
     "output_type": "execute_result"
    }
   ],
   "source": [
    "add_message(5,5)\n",
    "\n",
    "memory.load_memory_variables({})\n",
    "\n",
    "# memory를 4개 까지 저장하기 때문에 5번째 메시지를 넣은 순간 가장 이전의 메시지인 '1'이 사라지게 됨."
   ]
  },
  {
   "cell_type": "code",
   "execution_count": 15,
   "metadata": {},
   "outputs": [],
   "source": [
    "# Conversation Summary Memory\n",
    "from langchain.memory import ConversationSummaryMemory\n",
    "from langchain.chat_models import ChatOpenAI\n",
    "\n",
    "llm = ChatOpenAI(temperature=0.1)\n",
    "\n",
    "# 이 메모리를 사용하면 비용이 발생함\n",
    "memory = ConversationSummaryMemory(llm=llm)\n",
    "\n",
    "def add_message(input, output):\n",
    "    memory.save_context({\"input\" : input}, {\"output\" : output})\n",
    "\n",
    "def get_history():\n",
    "    return memory.load_memory_variables({})\n",
    "\n",
    "add_message(\"Hi I'm Nicolas, I live in South Korea\", \"Wow that is a cool\")"
   ]
  },
  {
   "cell_type": "code",
   "execution_count": 16,
   "metadata": {},
   "outputs": [],
   "source": [
    "add_message(\"South Korea is so pretty\", \"I wish I could go!!\")"
   ]
  },
  {
   "cell_type": "code",
   "execution_count": 18,
   "metadata": {},
   "outputs": [
    {
     "data": {
      "text/plain": [
       "{'history': 'Nicolas introduces himself as living in South Korea. The AI responds positively to this information, expressing a desire to visit the country because it is so pretty.'}"
      ]
     },
     "execution_count": 18,
     "metadata": {},
     "output_type": "execute_result"
    }
   ],
   "source": [
    "get_history()\n",
    "\n",
    "# 위의 대화 내용을 요약하면서 저장함."
   ]
  },
  {
   "cell_type": "code",
   "execution_count": 23,
   "metadata": {},
   "outputs": [],
   "source": [
    "# Conversation Summary Memory\n",
    "from langchain.memory import ConversationSummaryBufferMemory\n",
    "from langchain.chat_models import ChatOpenAI\n",
    "\n",
    "llm = ChatOpenAI(temperature=0.1)\n",
    "\n",
    "# max_token_limit : 메시지들이 요약되기 전, 메시지 토큰 수의 최대값\n",
    "memory = ConversationSummaryBufferMemory(\n",
    "    llm=llm,\n",
    "    max_token_limit=150,\n",
    "    return_messages=True,\n",
    "    )\n",
    "\n",
    "def add_message(input, output):\n",
    "    memory.save_context({\"input\" : input}, {\"output\" : output})\n",
    "\n",
    "def get_history():\n",
    "    return memory.load_memory_variables({})\n",
    "\n",
    "add_message(\"Hi I'm Nicolas, I live in South Korea\", \"Wow that is a cool\")"
   ]
  },
  {
   "cell_type": "code",
   "execution_count": 24,
   "metadata": {},
   "outputs": [
    {
     "data": {
      "text/plain": [
       "{'history': [HumanMessage(content=\"Hi I'm Nicolas, I live in South Korea\"),\n",
       "  AIMessage(content='Wow that is a cool')]}"
      ]
     },
     "execution_count": 24,
     "metadata": {},
     "output_type": "execute_result"
    }
   ],
   "source": [
    "get_history()"
   ]
  },
  {
   "cell_type": "code",
   "execution_count": 25,
   "metadata": {},
   "outputs": [],
   "source": [
    "add_message(\"South Korea is so pretty\", \"I wish I could go!!\")"
   ]
  },
  {
   "cell_type": "code",
   "execution_count": 26,
   "metadata": {},
   "outputs": [
    {
     "data": {
      "text/plain": [
       "{'history': [HumanMessage(content=\"Hi I'm Nicolas, I live in South Korea\"),\n",
       "  AIMessage(content='Wow that is a cool'),\n",
       "  HumanMessage(content='South Korea is so pretty'),\n",
       "  AIMessage(content='I wish I could go!!')]}"
      ]
     },
     "execution_count": 26,
     "metadata": {},
     "output_type": "execute_result"
    }
   ],
   "source": [
    "get_history()"
   ]
  },
  {
   "cell_type": "code",
   "execution_count": 27,
   "metadata": {},
   "outputs": [],
   "source": [
    "add_message(\"How far is Korea from Argentina?\", \"I don't know! Super far!!\")"
   ]
  },
  {
   "cell_type": "code",
   "execution_count": 28,
   "metadata": {},
   "outputs": [
    {
     "data": {
      "text/plain": [
       "{'history': [HumanMessage(content=\"Hi I'm Nicolas, I live in South Korea\"),\n",
       "  AIMessage(content='Wow that is a cool'),\n",
       "  HumanMessage(content='South Korea is so pretty'),\n",
       "  AIMessage(content='I wish I could go!!'),\n",
       "  HumanMessage(content='How far is Korea from Argentina?'),\n",
       "  AIMessage(content=\"I don't know! Super far!!\")]}"
      ]
     },
     "execution_count": 28,
     "metadata": {},
     "output_type": "execute_result"
    }
   ],
   "source": [
    "get_history()"
   ]
  },
  {
   "cell_type": "code",
   "execution_count": 35,
   "metadata": {},
   "outputs": [],
   "source": [
    "add_message(\"How far is Brazil from Argentina?\", \"I don't know! Super far!!\")"
   ]
  },
  {
   "cell_type": "code",
   "execution_count": 36,
   "metadata": {},
   "outputs": [
    {
     "data": {
      "text/plain": [
       "{'history': [SystemMessage(content='Nicolas introduces himself as living in South Korea. The AI responds positively to this information.'),\n",
       "  HumanMessage(content='South Korea is so pretty'),\n",
       "  AIMessage(content='I wish I could go!!'),\n",
       "  HumanMessage(content='How far is Korea from Argentina?'),\n",
       "  AIMessage(content=\"I don't know! Super far!!\"),\n",
       "  HumanMessage(content='How far is Brazil from Argentina?'),\n",
       "  AIMessage(content=\"I don't know! Super far!!\"),\n",
       "  HumanMessage(content='How far is Brazil from Argentina?'),\n",
       "  AIMessage(content=\"I don't know! Super far!!\"),\n",
       "  HumanMessage(content='How far is Brazil from Argentina?'),\n",
       "  AIMessage(content=\"I don't know! Super far!!\"),\n",
       "  HumanMessage(content='How far is Brazil from Argentina?'),\n",
       "  AIMessage(content=\"I don't know! Super far!!\")]}"
      ]
     },
     "execution_count": 36,
     "metadata": {},
     "output_type": "execute_result"
    }
   ],
   "source": [
    "get_history()"
   ]
  }
 ],
 "metadata": {
  "kernelspec": {
   "display_name": "env",
   "language": "python",
   "name": "python3"
  },
  "language_info": {
   "codemirror_mode": {
    "name": "ipython",
    "version": 3
   },
   "file_extension": ".py",
   "mimetype": "text/x-python",
   "name": "python",
   "nbconvert_exporter": "python",
   "pygments_lexer": "ipython3",
   "version": "3.10.5"
  }
 },
 "nbformat": 4,
 "nbformat_minor": 2
}
