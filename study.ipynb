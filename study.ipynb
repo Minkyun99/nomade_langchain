{
 "cells": [
  {
   "cell_type": "markdown",
   "metadata": {},
   "source": [
    "### 2024.02.04\n",
    "#### 오늘의 스터디 내용"
   ]
  },
  {
   "cell_type": "markdown",
   "metadata": {},
   "source": [
    "##### 파이썬 가상환경 설정\n",
    "\n",
    "1. 가상환경 폴더 생성 : python -m venv [\"가상환경 폴더 경로 및 폴더 이름\"]\n",
    "######   ex -> python -m venv ./env\n",
    "######   FIXME: 가상환경 폴더 생성할 때, 파이썬 버전 확인하기! 너무 낮은 버전이면 라이브러리 설치가 안 될 수도 있음!\n",
    "\n",
    "2. .gitignore 생성 : 가상환경 폴더 이름 + /\n",
    "######   ex -> env/\n",
    "\n",
    "######   gitignore 생성하여 가상환경에서 만들어진 내용이 git에 업로드 되지 않게 막아야 함.\n",
    "\n",
    "3. powershell : PS C:\\> env\\Scripts\\Activate.ps1\n",
    "######   cmd : C:\\> env\\Scripts\\activate.bat\n",
    "######   -> powershell 혹은 cmd 창에서 가상환경 접속\n",
    "\n",
    "4. 가상환경에 접속하여 설치해야 하는 라이브러리 및 모듈 설치\n",
    "######   pip install -r [설치해야하는 라이브러리 내용이 있는 파일 이름]\n",
    "######   ex -> pip install -r requirements.txt\n",
    "######   FIXME: 주의 사항! 가상환경 생성할 때 파이썬 버전 확인해야 함!\n",
    "######   라이브러리 설치 시, 3.8 이상을 요구하는 사항이 있을 수도 있기 때문에 파이썬 버전 미리 확인하여 원하는 파이썬 버전으로 가상환경 만들기!\n"
   ]
  },
  {
   "cell_type": "markdown",
   "metadata": {},
   "source": [
    "### 2024.02.13\n",
    "#### 오늘의 스터디 내용"
   ]
  },
  {
   "cell_type": "markdown",
   "metadata": {},
   "source": [
    "##### Prompt\n",
    "\n",
    "###### chatPromptTemplate : message로부터 template을 만듬\n",
    "###### PromptTemplate : String을 이용해서 template을 만듬\n",
    "###### template에는 검증계층(validation layer)이 있음 -> 사용자가 볼 수 없는 곳에서 template이 질문에 대한 변수를 정의함.\n",
    "\n",
    "\n",
    "##### Few-shot prompting :  Few-shot prompting은 특히 모델 Finetuning 이나 대규모 데이터셋이 실행 가능하지 않은 상황에서 LLM의 능력을 유연하고 효율적으로 활용하기 위한 강력한 도구\n",
    "\n",
    "###### 예시를 통한 시연 (Demonstration through Examples): 특정 예시를 제공함으로써 모델에게 어떤 종류의 출력이 기대되는지를 보여줍니다. 이는 분류, 번역 또는 심지어 창의적 글쓰기와 같은 작업에 특히 도움이 될 수 있습니다. \n",
    "\n",
    "###### 모호성 감소 (Reduction in Ambiguity): Few-shot prompting는 작업 지시에서 모호성을 줄여 모델에게 무엇을 해야 하는지 더 명확하게 합니다.  \n",
    "\n",
    "###### 유연성과 적응성 (Flexibility and Adaptability): 이 방법은 모델이 재교육이나 핵심 알고리즘에 대한 업데이트 없이도 새로운 작업에 적응할 수 있게 해줍니다.\n",
    "\n",
    "###### 효율성 (Efficiency): 퓨샷 학습은 새로운 작업에 모델을 적응시키기 위해 대량의 데이터나 광범위한 파인튜닝이 필요하지 않다는 점에서 효율적입니다.\n",
    "\n",
    "###### 예시 품질에 대한 의존성 (Dependency on Example Quality): Few-shot prompting의 효과는 제공된 예시의 품질과 관련성에 크게 의존합니다. 잘못 선택된 예시는 모델로 하여금 부적절하거나 잘못된 반응을 할 수 있게 만듭니다.  \n",
    "\n",
    "\n",
    "1. FewShotpromtTemplate\n",
    "\n",
    "2. FewShotChatMessagePromptTemplate\n",
    "\n",
    "3. LengthBasedExampleSelector\n",
    "\n",
    "4. Serialization and Composition\n",
    "\n",
    "5. caching\n"
   ]
  }
 ],
 "metadata": {
  "language_info": {
   "name": "python"
  }
 },
 "nbformat": 4,
 "nbformat_minor": 2
}
