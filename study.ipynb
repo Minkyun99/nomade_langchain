{
 "cells": [
  {
   "cell_type": "markdown",
   "metadata": {},
   "source": [
    "### 2024.02.04\n",
    "#### 오늘의 스터디 내용"
   ]
  },
  {
   "cell_type": "markdown",
   "metadata": {},
   "source": [
    "##### 파이썬 가상환경 설정\n",
    "\n",
    "1. 가상환경 폴더 생성 : python -m venv [\"가상환경 폴더 경로 및 폴더 이름\"]\n",
    "######   ex -> python -m venv ./env\n",
    "######   FIXME: 가상환경 폴더 생성할 때, 파이썬 버전 확인하기! 너무 낮은 버전이면 라이브러리 설치가 안 될 수도 있음!\n",
    "\n",
    "2. .gitignore 생성 : 가상환경 폴더 이름 + /\n",
    "######   ex -> env/\n",
    "\n",
    "######   gitignore 생성하여 가상환경에서 만들어진 내용이 git에 업로드 되지 않게 막아야 함.\n",
    "\n",
    "3. powershell : PS C:\\> env\\Scripts\\Activate.ps1\n",
    "######   cmd : C:\\> env\\Scripts\\activate.bat\n",
    "######   -> powershell 혹은 cmd 창에서 가상환경 접속\n",
    "\n",
    "4. 가상환경에 접속하여 설치해야 하는 라이브러리 및 모듈 설치\n",
    "######   pip install -r [설치해야하는 라이브러리 내용이 있는 파일 이름]\n",
    "######   ex -> pip install -r requirements.txt\n",
    "######   FIXME: 주의 사항! 가상환경 생성할 때 파이썬 버전 확인해야 함!\n",
    "######   라이브러리 설치 시, 3.8 이상을 요구하는 사항이 있을 수도 있기 때문에 파이썬 버전 미리 확인하여 원하는 파이썬 버전으로 가상환경 만들기!\n"
   ]
  }
 ],
 "metadata": {
  "language_info": {
   "name": "python"
  }
 },
 "nbformat": 4,
 "nbformat_minor": 2
}
