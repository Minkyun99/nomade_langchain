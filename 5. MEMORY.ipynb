{
 "cells": [
  {
   "cell_type": "markdown",
   "metadata": {},
   "source": [
    "1. Conversation Buffer Memory\n",
    "    - 단순히 이전 대화 내용만 기억함\n",
    "    - 메시지를 발신할 때마다 이전 대화 내용을 전부 학습함\n",
    "    - 굉장히 비효율적이고, 이전 대화 내용이 길어질 수록 비용이 많이드는 단점 발생 \n",
    "2. Conversation Buffer Window Memory\n",
    "    - 대화의 특정 부분만을 저장함\n",
    "    - 가장 최근의 대화 내용만 저장할 수 있음 (저장 사이즈를 정해줄 수 있음)\n",
    "    - 챗봇이 예전 대화를 기억하지 못한다는 단점이 있음\n",
    "3. Conversation Summary Memory\n",
    "    - 메시지를 그대로 저장하는 것이 아닌 conversation을 자체적으로 요약함\n",
    "    - Conversation을 요약하면서 저장\n",
    "    - 사용하는 토큰이 많지 않기 때문에 비용 절약이 됨\n"
   ]
  }
 ],
 "metadata": {
  "language_info": {
   "name": "python"
  }
 },
 "nbformat": 4,
 "nbformat_minor": 2
}
